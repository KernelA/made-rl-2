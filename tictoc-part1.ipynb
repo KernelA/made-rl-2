{
 "cells": [
  {
   "cell_type": "code",
   "execution_count": 129,
   "metadata": {},
   "outputs": [],
   "source": [
    "import numpy as np\n",
    "from anytree import RenderTree\n",
    "import itertools\n",
    "import logging\n",
    "\n",
    "import log_set"
   ]
  },
  {
   "cell_type": "code",
   "execution_count": 130,
   "metadata": {},
   "outputs": [
    {
     "name": "stdout",
     "output_type": "stream",
     "text": [
      "The autoreload extension is already loaded. To reload it, use:\n",
      "  %reload_ext autoreload\n"
     ]
    }
   ],
   "source": [
    "%load_ext autoreload\n",
    "%autoreload 2\n",
    "\n",
    "from tictac_rl import TicTacToe, MinMaxTree"
   ]
  },
  {
   "cell_type": "code",
   "execution_count": 122,
   "metadata": {},
   "outputs": [],
   "source": [
    "logger = logging.getLogger(\"tictoc\")"
   ]
  },
  {
   "cell_type": "code",
   "execution_count": 131,
   "metadata": {},
   "outputs": [],
   "source": [
    "env = TicTacToe(3, 3, 3)"
   ]
  },
  {
   "cell_type": "code",
   "execution_count": 5,
   "metadata": {},
   "outputs": [],
   "source": [
    "tree = MinMaxTree.load_from_dump(\"trees/3/cross/\")"
   ]
  },
  {
   "cell_type": "code",
   "execution_count": 135,
   "metadata": {},
   "outputs": [],
   "source": [
    "for start_x, start_y in itertools.product(range(env.n_rows), range(env.n_cols)):\n",
    "    logger.info(\"start\")\n",
    "    env.reset()\n",
    "    is_max = True\n",
    "    hashes = []\n",
    "    (hash_state, *_), *_  = env.step((start_x, start_y))\n",
    "    hashes.append(hash_state)\n",
    "    while True:\n",
    "        is_max = not is_max\n",
    "        move = tree.best_move(hashes, is_max)\n",
    "        (hash_state, *_), reward, is_end  = env.step(move)\n",
    "        hashes.append(hash_state)\n",
    "        if is_end:\n",
    "            if reward != 0:\n",
    "                for hash_str in hashes:\n",
    "                    logger.info(hash_str)\n",
    "                    logger.info(env.from_hash(hash_str))\n",
    "                logger.handlers[0].flush()\n",
    "                raise ValueError()\n",
    "            break"
   ]
  },
  {
   "cell_type": "code",
   "execution_count": null,
   "metadata": {},
   "outputs": [],
   "source": []
  }
 ],
 "metadata": {
  "interpreter": {
   "hash": "2e2dfa17ee7adc00e5bdc25f0f7fbe3c6df7dacc5907c5b77a4695adc4c8319f"
  },
  "kernelspec": {
   "display_name": "Python 3.9.7 64-bit ('made-rl2': conda)",
   "language": "python",
   "name": "python3"
  },
  "language_info": {
   "codemirror_mode": {
    "name": "ipython",
    "version": 3
   },
   "file_extension": ".py",
   "mimetype": "text/x-python",
   "name": "python",
   "nbconvert_exporter": "python",
   "pygments_lexer": "ipython3",
   "version": "3.9.7"
  },
  "orig_nbformat": 4
 },
 "nbformat": 4,
 "nbformat_minor": 2
}
