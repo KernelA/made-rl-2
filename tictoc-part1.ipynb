{
 "cells": [
  {
   "cell_type": "code",
   "execution_count": 73,
   "metadata": {},
   "outputs": [],
   "source": [
    "import numpy as np\n",
    "from anytree import RenderTree"
   ]
  },
  {
   "cell_type": "code",
   "execution_count": 1,
   "metadata": {},
   "outputs": [],
   "source": [
    "%load_ext autoreload\n",
    "%autoreload 2\n",
    "\n",
    "from tictac_rl import TicTacToe, build_minmax_tree, best_move"
   ]
  },
  {
   "cell_type": "code",
   "execution_count": 2,
   "metadata": {},
   "outputs": [],
   "source": [
    "env = TicTacToe(3, 3, 3)"
   ]
  },
  {
   "cell_type": "code",
   "execution_count": 3,
   "metadata": {},
   "outputs": [],
   "source": [
    "tree, hash_table = build_minmax_tree(env)"
   ]
  },
  {
   "cell_type": "code",
   "execution_count": 18,
   "metadata": {},
   "outputs": [],
   "source": [
    "env.reset()"
   ]
  },
  {
   "cell_type": "code",
   "execution_count": 19,
   "metadata": {},
   "outputs": [],
   "source": [
    "(hash_state, *_), *_  = env.step((0, 0))\n",
    "is_max = False"
   ]
  },
  {
   "cell_type": "code",
   "execution_count": 20,
   "metadata": {},
   "outputs": [
    {
     "name": "stdout",
     "output_type": "stream",
     "text": [
      "-------------\n",
      "| x |   |   | \n",
      "-------------\n",
      "|   |   |   | \n",
      "-------------\n",
      "|   |   |   | \n",
      "-------------\n"
     ]
    }
   ],
   "source": [
    "env.printBoard()"
   ]
  },
  {
   "cell_type": "code",
   "execution_count": 21,
   "metadata": {},
   "outputs": [
    {
     "name": "stdout",
     "output_type": "stream",
     "text": [
      "(1, 1)\n",
      "-------------\n",
      "| x |   |   | \n",
      "-------------\n",
      "|   | o |   | \n",
      "-------------\n",
      "|   |   |   | \n",
      "-------------\n",
      "--------------------------------------------------\n",
      "(0, 1)\n",
      "-------------\n",
      "| x | x |   | \n",
      "-------------\n",
      "|   | o |   | \n",
      "-------------\n",
      "|   |   |   | \n",
      "-------------\n",
      "--------------------------------------------------\n",
      "(0, 2)\n",
      "-------------\n",
      "| x | x | o | \n",
      "-------------\n",
      "|   | o |   | \n",
      "-------------\n",
      "|   |   |   | \n",
      "-------------\n",
      "--------------------------------------------------\n",
      "(2, 0)\n",
      "-------------\n",
      "| x | x | o | \n",
      "-------------\n",
      "|   | o |   | \n",
      "-------------\n",
      "| x |   |   | \n",
      "-------------\n",
      "--------------------------------------------------\n",
      "(1, 0)\n",
      "-------------\n",
      "| x | x | o | \n",
      "-------------\n",
      "| o | o |   | \n",
      "-------------\n",
      "| x |   |   | \n",
      "-------------\n",
      "--------------------------------------------------\n",
      "(1, 2)\n",
      "-------------\n",
      "| x | x | o | \n",
      "-------------\n",
      "| o | o | x | \n",
      "-------------\n",
      "| x |   |   | \n",
      "-------------\n",
      "--------------------------------------------------\n",
      "(2, 1)\n",
      "-------------\n",
      "| x | x | o | \n",
      "-------------\n",
      "| o | o | x | \n",
      "-------------\n",
      "| x | o |   | \n",
      "-------------\n",
      "--------------------------------------------------\n",
      "(2, 2)\n",
      "-------------\n",
      "| x | x | o | \n",
      "-------------\n",
      "| o | o | x | \n",
      "-------------\n",
      "| x | o | x | \n",
      "-------------\n",
      "--------------------------------------------------\n"
     ]
    }
   ],
   "source": [
    "while True:\n",
    "   is_max = not is_max\n",
    "   node = hash_table[hash_state]\n",
    "   move = best_move(node, is_max)\n",
    "   print(move)\n",
    "   (hash_state, *_), reward, is_end  = env.step(move)\n",
    "   env.printBoard()\n",
    "   print(\"-\" * 50)\n",
    "   if is_end:\n",
    "       break"
   ]
  },
  {
   "cell_type": "code",
   "execution_count": 9,
   "metadata": {},
   "outputs": [
    {
     "data": {
      "text/plain": [
       "(('200021022', array([[1, 2]], dtype=int64), 1), 0, False)"
      ]
     },
     "execution_count": 9,
     "metadata": {},
     "output_type": "execute_result"
    }
   ],
   "source": [
    "env.step((0, 2))"
   ]
  },
  {
   "cell_type": "code",
   "execution_count": null,
   "metadata": {},
   "outputs": [],
   "source": []
  }
 ],
 "metadata": {
  "interpreter": {
   "hash": "2e2dfa17ee7adc00e5bdc25f0f7fbe3c6df7dacc5907c5b77a4695adc4c8319f"
  },
  "kernelspec": {
   "display_name": "Python 3.9.7 64-bit ('made-rl2': conda)",
   "language": "python",
   "name": "python3"
  },
  "language_info": {
   "codemirror_mode": {
    "name": "ipython",
    "version": 3
   },
   "file_extension": ".py",
   "mimetype": "text/x-python",
   "name": "python",
   "nbconvert_exporter": "python",
   "pygments_lexer": "ipython3",
   "version": "3.9.7"
  },
  "orig_nbformat": 4
 },
 "nbformat": 4,
 "nbformat_minor": 2
}
